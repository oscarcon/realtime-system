{
 "cells": [
  {
   "cell_type": "code",
   "execution_count": 1,
   "metadata": {},
   "outputs": [],
   "source": [
    "import scrapy"
   ]
  },
  {
   "cell_type": "code",
   "execution_count": 3,
   "metadata": {},
   "outputs": [],
   "source": [
    "class WebCrawler(scrapy.Spider):\n",
    "    name = \"crawl_everything\"\n",
    "    start_urls = ['https://vieclam24h.vn/tim-kiem-viec-lam-nhanh/\\\n",
    "    ?hdn_nganh_nghe_cap1=&hdn_dia_diem=&hdn_tu_khoa=&hdn_hinh_thuc=&hdn_cap_bac=',\\\n",
    "    'https://www.aliexpress.com/category/7/computer-office.html?spm=2114.11010108.104.1.650c649bV9UZCj'\n",
    "    ]\n",
    "    \n",
    "    def parse(self, response):\n",
    "        XPATH = '//div[@title=\"Mức lương\"]/text()'\n",
    "        for salary in reponse.xpath(XPATH):\n",
    "            pass"
   ]
  },
  {
   "cell_type": "code",
   "execution_count": 4,
   "metadata": {},
   "outputs": [],
   "source": [
    "import re"
   ]
  },
  {
   "cell_type": "code",
   "execution_count": null,
   "metadata": {},
   "outputs": [],
   "source": []
  }
 ],
 "metadata": {
  "kernelspec": {
   "display_name": "Python 3",
   "language": "python",
   "name": "python3"
  },
  "language_info": {
   "codemirror_mode": {
    "name": "ipython",
    "version": 3
   },
   "file_extension": ".py",
   "mimetype": "text/x-python",
   "name": "python",
   "nbconvert_exporter": "python",
   "pygments_lexer": "ipython3",
   "version": "3.6.7"
  }
 },
 "nbformat": 4,
 "nbformat_minor": 2
}
